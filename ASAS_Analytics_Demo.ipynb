{
 "nbformat": 4,
 "nbformat_minor": 0,
 "metadata": {
  "colab": {
   "provenance": [],
   "machine_shape": "hm",
   "gpuType": "L4"
  },
  "kernelspec": {
   "name": "python3",
   "language": "python",
   "display_name": "Python 3 (ipykernel)"
  },
  "language_info": {
   "name": "python"
  },
  "accelerator": "GPU"
 },
 "cells": [
  {
   "cell_type": "markdown",
   "source": [
    "# 1. Clone ASAS repository"
   ],
   "metadata": {
    "collapsed": false
   }
  },
  {
   "cell_type": "code",
   "outputs": [],
   "source": [
    "!git clone https://github.com/skumar09/asas.git"
   ],
   "metadata": {
    "collapsed": false
   }
  },
  {
   "cell_type": "markdown",
   "source": [
    "# 2. Install Dependencies"
   ],
   "metadata": {
    "collapsed": false
   }
  },
  {
   "cell_type": "code",
   "outputs": [],
   "source": [
    "# Navigate to ASAS root and install the requirements\n",
    "%cd /content/asas\n",
    "!pip install -r requirements.txt\n",
    "%cd /content/asas"
   ],
   "metadata": {
    "collapsed": false
   }
  },
  {
   "cell_type": "markdown",
   "source": [
    "# 3. Running ASAS "
   ],
   "metadata": {
    "collapsed": false
   }
  },
  {
   "cell_type": "markdown",
   "source": [
    "Initialize ASAS Model, video url & save locations"
   ],
   "metadata": {
    "collapsed": false
   }
  },
  {
   "cell_type": "code",
   "outputs": [],
   "source": [
    "from models.asas import ASAS\n",
    "\n",
    "asas_model = ASAS('./weights/yolox-10-games.pt', team_a_color='white', team_b_color='blue', device='mps')\n",
    "video_url = 'https://videos.nba.com/nba/pbp/media/2024/04/04/0022301124/16/56783a77-7351-383d-0f4d-d19cf1cfc68b_1280x720.mp4'\n",
    "local_save_path = './input_videos/test.mp4'\n",
    "tracked_output_path = './tracked_output_videos'"
   ],
   "metadata": {
    "collapsed": false
   },
   "execution_count": null
  },
  {
   "cell_type": "markdown",
   "source": [
    "## 3.a. FGM Detection"
   ],
   "metadata": {
    "collapsed": false
   }
  },
  {
   "cell_type": "markdown",
   "source": [
    "`analysis_type` parameter of `ASAS` model's `run_analytics` method, defines what type of analytics should be run. By default, FGM detection is performed. Find in the output of the below cell."
   ],
   "metadata": {
    "collapsed": false
   }
  },
  {
   "cell_type": "code",
   "outputs": [],
   "source": [
    "asas_analytics = asas_model.run_analytics(video_url, local_save_path)"
   ],
   "metadata": {
    "collapsed": false
   },
   "execution_count": null
  },
  {
   "cell_type": "markdown",
   "source": [
    "## 3.b. Running Ball Possession Analysis"
   ],
   "metadata": {
    "collapsed": false
   }
  },
  {
   "cell_type": "code",
   "source": [
    "# Ball Possession Analytics\n",
    "asas_analytics = asas_model.run_analytics(video_url, local_save_path, analysis_type='BALL_POSSESSION')\n",
    "asas_analytics.ball_possession_result.plot_ball_possession_time()"
   ],
   "metadata": {
    "colab": {
     "base_uri": "https://localhost:8080/",
     "height": 1000
    },
    "id": "pAC0tZ5fhspr",
    "outputId": "181f44f9-81a0-4bb6-cc91-41d780ee46b1"
   },
   "execution_count": null,
   "outputs": []
  },
  {
   "cell_type": "markdown",
   "source": [
    "## 3.c. Running Ball Trajectory Analysis"
   ],
   "metadata": {
    "collapsed": false
   }
  },
  {
   "cell_type": "code",
   "outputs": [],
   "source": [
    "# 2. Ball Trajectory Analytics\n",
    "asas_analytics = asas_model.run_analytics(video_url, local_save_path, analysis_type='BALL_TRAJECTORY')\n",
    "asas_analytics.ball_trajectory_result.plot_ball_and_net_wrto_net_position()"
   ],
   "metadata": {
    "collapsed": false
   },
   "execution_count": null
  },
  {
   "cell_type": "markdown",
   "source": [
    "## 3.d. NLP Commentary Generation\n",
    "- Import the CommentaryGenerator class.\n",
    "- Define a list of commentary texts.\n",
    "- Select a specific commentary text from the list.\n",
    "- Generate commentary for the video using the selected text."
   ],
   "metadata": {
    "collapsed": false
   }
  },
  {
   "cell_type": "code",
   "outputs": [],
   "source": [
    "# NLP Commentary Generation\n",
    "\n",
    "!pip install openai > /dev/null 2>&1\n",
    "\n",
    "from analytics_engine.nlp import CommentaryGenerator\n",
    "\n",
    "# List of different commentary texts\n",
    "commentary_texts = [\n",
    "    \"Describe the current play in detail, focusing on the key actions and movements of the players. Avoid using terms like 'frame' or 'snapshot' as this is for live sport commentary. Ensure the description is concise and can be spoken within 12 seconds.\",\n",
    "    \"Narrate the ongoing action on the court, highlighting the players' movements and the ball's trajectory. Keep the description short enough for live commentary, not exceeding 12 seconds when spoken.\",\n",
    "    \"Provide a play-by-play description of the current action, focusing on player interactions and key moments. Make sure the commentary is brief and suitable for live broadcast, under 12 seconds.\"\n",
    "]\n",
    "\n",
    "# Select a specific commentary text from the list\n",
    "selected_commentary_text = commentary_texts[1]  # Change the index to select different commentary text\n",
    "\n",
    "generator = CommentaryGenerator()\n",
    "generator.generate_commentary(\n",
    "    video_path='./tracked_output_videos/test.mp4',\n",
    "    output_text_dir='./tracked_output_videos/texts',\n",
    "    output_audio_dir='./tracked_output_videos/audio',\n",
    "    api_key='YOUR_OPENAI_API_KEY',\n",
    "    commentary_text=selected_commentary_text\n",
    ")"
   ],
   "metadata": {
    "collapsed": false
   },
   "execution_count": null
  },
  {
   "cell_type": "markdown",
   "source": [
    "# Cleanup"
   ],
   "metadata": {
    "collapsed": false
   }
  },
  {
   "cell_type": "code",
   "source": [
    "#!rm -r '/content/dataset'\n",
    "!rm -r '/content/runs'\n",
    "!rm -r '/content/input_videos'\n",
    "!rm -r '/content/tracked_output_videos'\n",
    "# !rm -r 'runs'\n",
    "# !rm -r 'input_videos'\n",
    "# !rm -r 'tracked_output_videos'"
   ],
   "metadata": {
    "id": "xu-5PpvgrFit"
   },
   "execution_count": null,
   "outputs": []
  }
 ]
}
